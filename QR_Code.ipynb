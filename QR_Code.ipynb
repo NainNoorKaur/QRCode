{
 "cells": [
  {
   "cell_type": "code",
   "execution_count": 10,
   "id": "863e2857",
   "metadata": {},
   "outputs": [
    {
     "name": "stdout",
     "output_type": "stream",
     "text": [
      "TAWQPRNM665OGMS\n",
      "image saved successfully\n"
     ]
    }
   ],
   "source": [
    "import qrcode\n",
    "import string\n",
    "import random\n",
    "\n",
    "str1 = ''\n",
    "length = 15\n",
    "\n",
    "# using random.choices()\n",
    "# generating random strings of length 15\n",
    "data = str1.join(random.choices(string.ascii_uppercase + string.digits, k = length))\n",
    "#create QRcode and save it in images folder\n",
    "img = qrcode.make(data)\n",
    "img.save('./images/qrcode.png')\n",
    "print('image saved successfully')\n"
   ]
  },
  {
   "cell_type": "code",
   "execution_count": 8,
   "id": "3e58bcc9-1a0d-4948-a82b-a8ca130729bf",
   "metadata": {},
   "outputs": [
    {
     "name": "stdout",
     "output_type": "stream",
     "text": [
      "img saved\n"
     ]
    }
   ],
   "source": [
    "#ADVANCED  (More customizations to qrcode)\n",
    "#By creating a instance of QRCode class\n",
    "import qrcode\n",
    "data = \"The QR Code in Python\"\n",
    "\n",
    "qr = qrcode.QRCode(version=1, box_size=10, border=5)\n",
    "qr.add_data(data)\n",
    "qr.make(fit=True)\n",
    "img = qr.make_image(fill_color=\"red\", back_color=\"white\")\n",
    "img.save('./images/qrcode1.png')\n",
    "print('image saved successfully')"
   ]
  },
  {
   "cell_type": "code",
   "execution_count": 11,
   "id": "c18668d0-26ee-464a-9b31-1f5318d4ba3d",
   "metadata": {},
   "outputs": [
    {
     "name": "stdout",
     "output_type": "stream",
     "text": [
      "[Decoded(data=b'TAWQPRNM665OGMS', type='QRCODE', rect=Rect(left=40, top=40, width=210, height=210), polygon=[Point(x=40, y=40), Point(x=40, y=250), Point(x=250, y=250), Point(x=250, y=40)])]\n"
     ]
    }
   ],
   "source": [
    "#DECODE QRCODE\n",
    "from pyzbar.pyzbar import decode\n",
    "from PIL import Image\n",
    "\n",
    "img = Image.open('./images/qrcode.png')\n",
    "decode_result = decode(img)\n",
    "print(decode_result)"
   ]
  }
 ],
 "metadata": {
  "kernelspec": {
   "display_name": "Python 3",
   "language": "python",
   "name": "python3"
  },
  "language_info": {
   "codemirror_mode": {
    "name": "ipython",
    "version": 3
   },
   "file_extension": ".py",
   "mimetype": "text/x-python",
   "name": "python",
   "nbconvert_exporter": "python",
   "pygments_lexer": "ipython3",
   "version": "3.8.8"
  }
 },
 "nbformat": 4,
 "nbformat_minor": 5
}
